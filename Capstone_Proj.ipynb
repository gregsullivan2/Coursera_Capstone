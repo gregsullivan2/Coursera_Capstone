{
 "cells": [
  {
   "cell_type": "markdown",
   "metadata": {},
   "source": [
    "# City Affordability & Happiness Analysis"
   ]
  },
  {
   "cell_type": "markdown",
   "metadata": {},
   "source": [
    "## Introduction/Business Problem"
   ]
  },
  {
   "cell_type": "markdown",
   "metadata": {},
   "source": [
    "As a young professional on the job market, I have recently realized the huge discrepancy in housing prices in cities around the United States.  Typically, the markets with the higher housing rates are also the markets with the higher jobs.  I would like to filter through the data to find which cities I would best be able to buy a house.  It is important to note that salary vs. housing cost is not the only factor considered to find the best cities to move to; happiness is probably the most important factor when looking for a place to move. <br/> <br/>\n",
    "The goal of this project is to build a notebook that helps the user rank potential places to live.  The intended user is anyone who is looking to move to a city within the United States. <br/> <br/>\n",
    "Inherently, some very important factors will be left out of this analysis.  For example, where family and friends live is not taken into account.  The local school system is another major factor not considered in this analysis which many users would consider crucial."
   ]
  },
  {
   "cell_type": "markdown",
   "metadata": {},
   "source": [
    "## Data"
   ]
  },
  {
   "cell_type": "markdown",
   "metadata": {},
   "source": [
    "The data used will be coming from three main sources:<br><br>\n",
    "<strong>Zillow:<strong/>\n",
    "- Smoothed, seasonally adjusted measure of the typical home value and market changes\n",
    "- Typical value for homes within the 65th to 95th percentile range\n",
    "- All single-family residences and for all homes with 1, 2, 3, 4 and 5+ bedrooms\n",
    "\n",
    "Download can be found [here](https://www.zillow.com/research/data/)\n",
    "\n",
    "\n",
    "<strong>U.S. Bureau of Economic Analysis:<strong/>\n",
    "- Income data is counted per person over 18 years old\n",
    "- Income that people get from wages, proprietors' income, dividends, interest, rents, and government benefits\n",
    "- A person's income is counted in the county, metropolitan statistical area, or other area where they live, even if they work elsewhere.\n",
    "\n",
    "Download can be found [here](https://www.bea.gov/data/income-saving/personal-income-county-metro-and-other-areas)\n",
    "\n",
    "\n",
    "<strong>Foursquare:<strong/>\n",
    "- Data is pulled from Foursquare to better understand cities\n",
    "- Can be used to determine common venues, restaurants, or other activities in a city\n",
    "- Because the notebook user will have different preferences, allowing them to rank certain venues or activities will help filter city choices"
   ]
  }
 ],
 "metadata": {
  "kernelspec": {
   "display_name": "Python",
   "language": "python",
   "name": "conda-env-python-py"
  },
  "language_info": {
   "codemirror_mode": {
    "name": "ipython",
    "version": 3
   },
   "file_extension": ".py",
   "mimetype": "text/x-python",
   "name": "python",
   "nbconvert_exporter": "python",
   "pygments_lexer": "ipython3",
   "version": "3.6.10"
  }
 },
 "nbformat": 4,
 "nbformat_minor": 4
}
